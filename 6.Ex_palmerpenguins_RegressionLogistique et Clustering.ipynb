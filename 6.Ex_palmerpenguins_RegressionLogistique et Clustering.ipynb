{
 "cells": [
  {
   "cell_type": "markdown",
   "id": "95e3a15f-5d62-46fb-8d49-daa3e16c35ea",
   "metadata": {},
   "source": [
    "# Exercise: palmerpenguins -  Régression Logistique"
   ]
  },
  {
   "cell_type": "code",
   "execution_count": 2,
   "id": "7c349de2-adcd-44b3-87fe-a4b42e02fa60",
   "metadata": {
    "jupyter": {
     "source_hidden": true
    }
   },
   "outputs": [],
   "source": [
    "import pandas as pd\n",
    "from sklearn.preprocessing import MinMaxScaler\n",
    "from sklearn.linear_model import LogisticRegression\n",
    "from sklearn.model_selection import train_test_split\n",
    "from sklearn.metrics import confusion_matrix"
   ]
  },
  {
   "cell_type": "code",
   "execution_count": 4,
   "id": "a36b154b-6e3e-4a80-a125-4f329ed53c2a",
   "metadata": {},
   "outputs": [],
   "source": [
    "filename = \"https://raw.githubusercontent.com/OpenClassrooms-Student-Center/8063076-Initiez-vous-au-Machine-Learning/master/data/palmer_penguins.csv\"\n",
    "data = pd.read_csv(filename)"
   ]
  },
  {
   "cell_type": "code",
   "execution_count": 8,
   "id": "52048a89-cac2-45e1-99c0-f7f3cfa53cad",
   "metadata": {},
   "outputs": [
    {
     "data": {
      "text/plain": [
       "sex\n",
       "0    168\n",
       "1    165\n",
       "Name: count, dtype: int64"
      ]
     },
     "execution_count": 8,
     "metadata": {},
     "output_type": "execute_result"
    }
   ],
   "source": [
    "# numérisation de la ariable 'sex'\n",
    "\n",
    "data.loc[data.sex == 'male', 'sex'] = 0\n",
    "data.loc[data.sex == 'female', 'sex'] = 1\n",
    "data.dropna(inplace=True)\n",
    "data['sex'] = data.sex.astype('int')\n",
    "\n",
    "data['sex'].value_counts()"
   ]
  },
  {
   "cell_type": "code",
   "execution_count": 12,
   "id": "a4147f4b-c21b-4404-b8ec-99bda80570d1",
   "metadata": {},
   "outputs": [],
   "source": [
    "# normalisation des valeurs\n",
    "\n",
    "scaler = MinMaxScaler()\n",
    "X = scaler.fit_transform(data[['bill_length_mm','bill_depth_mm','flipper_length_mm', 'body_mass_g']])\n",
    "y = data['sex'].values"
   ]
  },
  {
   "cell_type": "code",
   "execution_count": 18,
   "id": "33da701e-a160-42da-98b9-11e341d1b41b",
   "metadata": {},
   "outputs": [],
   "source": [
    "# split du modèle\n",
    "\n",
    "X_train, X_test, y_train, y_test = train_test_split(X, y, test_size=0.2, random_state = 42)"
   ]
  },
  {
   "cell_type": "code",
   "execution_count": 22,
   "id": "b690024c-7b0b-499d-8e04-c7ea69b182b8",
   "metadata": {},
   "outputs": [],
   "source": [
    "clf = LogisticRegression(random_state = 42)\n",
    "clf.fit(X_train, y_train)\n",
    "y_pred = clf.predict(X_test)"
   ]
  },
  {
   "cell_type": "code",
   "execution_count": 24,
   "id": "b600ee00-def0-49bc-a3ed-004d6a288c45",
   "metadata": {},
   "outputs": [
    {
     "data": {
      "text/plain": [
       "array([[28,  3],\n",
       "       [ 6, 30]])"
      ]
     },
     "execution_count": 24,
     "metadata": {},
     "output_type": "execute_result"
    }
   ],
   "source": [
    "confusion_matrix(y_test, y_pred)"
   ]
  },
  {
   "cell_type": "code",
   "execution_count": 30,
   "id": "3c64fa60-88e8-4e59-805b-8d96f900ed73",
   "metadata": {},
   "outputs": [
    {
     "name": "stdout",
     "output_type": "stream",
     "text": [
      "Recall score:  0.8333333333333334\n",
      "Precision score:  0.9090909090909091\n"
     ]
    }
   ],
   "source": [
    "from sklearn.metrics import recall_score, precision_score\n",
    "\n",
    "print(\"Recall score: \", recall_score(y_test, y_pred))\n",
    "print(\"Precision score: \", precision_score(y_test, y_pred))"
   ]
  },
  {
   "cell_type": "markdown",
   "id": "fcf45107-2783-48ee-8fa3-fdfa4f32b7e6",
   "metadata": {},
   "source": [
    "Le modèle est meilleur pour minimiser l'erreur : male => female, les faux positifs."
   ]
  },
  {
   "cell_type": "markdown",
   "id": "2529a7a7-dd5c-4fe5-990e-8073b1f8e295",
   "metadata": {},
   "source": [
    "## Calcule des probabilités et variation des seuils"
   ]
  },
  {
   "cell_type": "code",
   "execution_count": 34,
   "id": "005d8bf4-003a-4022-8b30-8f738a9e3382",
   "metadata": {},
   "outputs": [],
   "source": [
    "y_proba = clf.predict_proba(X_test)[:,1]\n",
    "y_pred_03 = [ 0 if value < 0.3 else 1 for value in y_proba ]\n",
    "y_pred_07 = [ 0 if value < 0.7 else 1 for value in y_proba ]"
   ]
  },
  {
   "cell_type": "code",
   "execution_count": 42,
   "id": "5e22ec2d-13b3-4f13-809a-3b34a11c65a0",
   "metadata": {},
   "outputs": [
    {
     "data": {
      "text/plain": [
       "array([[22,  9],\n",
       "       [ 1, 35]])"
      ]
     },
     "execution_count": 42,
     "metadata": {},
     "output_type": "execute_result"
    }
   ],
   "source": [
    "confusion_matrix(y_test, y_pred_03) #il y a plus de possibilité qu'on arrondi à 1 donc ça reduit les faux négatifs (1)"
   ]
  },
  {
   "cell_type": "code",
   "execution_count": 44,
   "id": "fe7902f1-e03c-4c5a-b41a-fcab0ef15ef8",
   "metadata": {},
   "outputs": [
    {
     "data": {
      "text/plain": [
       "array([[30,  1],\n",
       "       [18, 18]])"
      ]
     },
     "execution_count": 44,
     "metadata": {},
     "output_type": "execute_result"
    }
   ],
   "source": [
    "confusion_matrix(y_test, y_pred_07) #il y a plus de possibilité qu'on arrondi à 0 donc ça reduit les faux positifs (1)"
   ]
  },
  {
   "cell_type": "markdown",
   "id": "3e2d5c61-4147-49c9-9519-1aa27f2961ca",
   "metadata": {},
   "source": [
    "## Numérisation des variables non numeriques "
   ]
  },
  {
   "cell_type": "code",
   "execution_count": 53,
   "id": "a4c5a5bc-5184-4d77-94ad-4104b5c191dc",
   "metadata": {},
   "outputs": [
    {
     "data": {
      "text/plain": [
       "species\n",
       "3    146\n",
       "2    119\n",
       "1     68\n",
       "Name: count, dtype: int64"
      ]
     },
     "execution_count": 53,
     "metadata": {},
     "output_type": "execute_result"
    }
   ],
   "source": [
    "data.loc[data.species == 'Adelie', 'species'] = 3\n",
    "data.loc[data.species == 'Gentoo', 'species'] = 2\n",
    "data.loc[data.species == 'Chinstrap', 'species'] = 1\n",
    "data['species'] = data.species.astype('int')\n",
    "data['species'].value_counts()"
   ]
  },
  {
   "cell_type": "code",
   "execution_count": 55,
   "id": "a4d49301-1d62-4b28-ba9c-7ec606edc691",
   "metadata": {},
   "outputs": [],
   "source": [
    "scaler = MinMaxScaler()\n",
    "y = data['species'].values"
   ]
  },
  {
   "cell_type": "code",
   "execution_count": 73,
   "id": "e1b797d4-2581-4a1c-a3f1-77da13824e65",
   "metadata": {},
   "outputs": [],
   "source": [
    "# Modèle X1 avec le poids\n",
    "X1 = scaler.fit_transform(data[['bill_length_mm','bill_depth_mm','flipper_length_mm', 'body_mass_g']])\n",
    "X1_train, X1_test, y1_train, y1_test = train_test_split(X1, y, test_size=0.20, random_state=42)"
   ]
  },
  {
   "cell_type": "code",
   "execution_count": 75,
   "id": "bb49e809-2f08-4384-bed2-0973600b7ab3",
   "metadata": {},
   "outputs": [],
   "source": [
    "# Modèle X2 sans le poids\n",
    "X2 = scaler.fit_transform(data[['bill_length_mm','bill_depth_mm','flipper_length_mm']])\n",
    "X2_train, X2_test, y2_train, y2_test = train_test_split(X2, y, test_size=0.20, random_state=42)"
   ]
  },
  {
   "cell_type": "code",
   "execution_count": 77,
   "id": "43a0609b-2cc7-4e47-8c09-251ab21692e2",
   "metadata": {},
   "outputs": [
    {
     "name": "stdout",
     "output_type": "stream",
     "text": [
      "[[16  0  2]\n",
      " [ 0 18  0]\n",
      " [ 0  0 31]]\n",
      "[[16  0  2]\n",
      " [ 0 18  0]\n",
      " [ 0  0 31]]\n"
     ]
    }
   ],
   "source": [
    "clf1 = LogisticRegression(random_state = 42)\n",
    "clf1.fit(X1_train, y1_train)\n",
    "clf2 = LogisticRegression(random_state = 42)\n",
    "clf2.fit(X2_train, y2_train)\n",
    "\n",
    "y1_pred = clf1.predict(X1_test)\n",
    "y2_pred = clf2.predict(X2_test)\n",
    "\n",
    "print(confusion_matrix(y1_test, y1_pred))\n",
    "print(confusion_matrix(y2_test, y2_pred))"
   ]
  },
  {
   "cell_type": "markdown",
   "id": "b746bf58-1359-4aa5-b952-a5eb532adbab",
   "metadata": {},
   "source": [
    "Au vu des résultats de classification nous n'avions pas forcément besoin du poids (\"body_mass_g\") pour prédire leur espèce."
   ]
  },
  {
   "cell_type": "markdown",
   "id": "b6565593-5640-4dee-981d-dfce9cdc43e7",
   "metadata": {},
   "source": [
    "# Exercise: palmerpenguins -  Clustering - K-means"
   ]
  },
  {
   "cell_type": "code",
   "execution_count": 87,
   "id": "742e318d-4fb5-4ba5-9756-3fdbf426198e",
   "metadata": {},
   "outputs": [],
   "source": [
    "X = data[['bill_length_mm','bill_depth_mm','flipper_length_mm', 'body_mass_g','sex']]\n",
    "\n",
    "from sklearn.cluster import KMeans\n",
    "km = KMeans( n_clusters=3, random_state = 808, n_init = 10)\n",
    "km.fit(X)\n",
    "y_pred = km.labels_\n",
    "data['labels'] = km.labels_"
   ]
  },
  {
   "cell_type": "code",
   "execution_count": 89,
   "id": "a71b04ea-325d-4692-ac8e-80a08d7500a3",
   "metadata": {},
   "outputs": [
    {
     "data": {
      "text/html": [
       "<div>\n",
       "<style scoped>\n",
       "    .dataframe tbody tr th:only-of-type {\n",
       "        vertical-align: middle;\n",
       "    }\n",
       "\n",
       "    .dataframe tbody tr th {\n",
       "        vertical-align: top;\n",
       "    }\n",
       "\n",
       "    .dataframe thead th {\n",
       "        text-align: right;\n",
       "    }\n",
       "</style>\n",
       "<table border=\"1\" class=\"dataframe\">\n",
       "  <thead>\n",
       "    <tr style=\"text-align: right;\">\n",
       "      <th></th>\n",
       "      <th>species</th>\n",
       "      <th>labels</th>\n",
       "      <th>count_</th>\n",
       "    </tr>\n",
       "  </thead>\n",
       "  <tbody>\n",
       "    <tr>\n",
       "      <th>0</th>\n",
       "      <td>1</td>\n",
       "      <td>0</td>\n",
       "      <td>52</td>\n",
       "    </tr>\n",
       "    <tr>\n",
       "      <th>1</th>\n",
       "      <td>1</td>\n",
       "      <td>1</td>\n",
       "      <td>16</td>\n",
       "    </tr>\n",
       "    <tr>\n",
       "      <th>2</th>\n",
       "      <td>2</td>\n",
       "      <td>0</td>\n",
       "      <td>1</td>\n",
       "    </tr>\n",
       "    <tr>\n",
       "      <th>3</th>\n",
       "      <td>2</td>\n",
       "      <td>1</td>\n",
       "      <td>48</td>\n",
       "    </tr>\n",
       "    <tr>\n",
       "      <th>4</th>\n",
       "      <td>2</td>\n",
       "      <td>2</td>\n",
       "      <td>70</td>\n",
       "    </tr>\n",
       "    <tr>\n",
       "      <th>5</th>\n",
       "      <td>3</td>\n",
       "      <td>0</td>\n",
       "      <td>108</td>\n",
       "    </tr>\n",
       "    <tr>\n",
       "      <th>6</th>\n",
       "      <td>3</td>\n",
       "      <td>1</td>\n",
       "      <td>38</td>\n",
       "    </tr>\n",
       "  </tbody>\n",
       "</table>\n",
       "</div>"
      ],
      "text/plain": [
       "   species  labels  count_\n",
       "0        1       0      52\n",
       "1        1       1      16\n",
       "2        2       0       1\n",
       "3        2       1      48\n",
       "4        2       2      70\n",
       "5        3       0     108\n",
       "6        3       1      38"
      ]
     },
     "execution_count": 89,
     "metadata": {},
     "output_type": "execute_result"
    }
   ],
   "source": [
    "data[['species', 'labels', 'island']].groupby(by = ['species', 'labels']).count().reset_index().rename(columns = {'island': 'count_'})"
   ]
  },
  {
   "cell_type": "markdown",
   "id": "61997799-bba8-41df-b75b-bb640d0211be",
   "metadata": {},
   "source": [
    "Résultat : Il n'est pas possible d'associer une espèce particulière à une des partitions du k-means."
   ]
  },
  {
   "cell_type": "code",
   "execution_count": 96,
   "id": "d02c2043-16ab-4c9a-b104-346e3b909061",
   "metadata": {},
   "outputs": [
    {
     "data": {
      "text/plain": [
       "[<matplotlib.lines.Line2D at 0x7f60c4e0d540>]"
      ]
     },
     "execution_count": 96,
     "metadata": {},
     "output_type": "execute_result"
    },
    {
     "data": {
      "image/png": "[encoded data removed]",
      "text/plain": [
       "<Figure size 640x480 with 1 Axes>"
      ]
     },
     "metadata": {},
     "output_type": "display_data"
    }
   ],
   "source": [
    "#Utilisez maintenant le score de silhouette pour déterminer le nombre optimal de partitions :\n",
    "\n",
    "from sklearn.metrics import silhouette_score\n",
    "import matplotlib.pyplot as plt\n",
    "\n",
    "scores = []\n",
    "for n in range(2, 11, 1):\n",
    "    km = KMeans( n_clusters=n, random_state = 808, n_init = 10)\n",
    "    km.fit(X)\n",
    "    labels_ = km.predict(X)\n",
    "    scores.append(silhouette_score(X,labels_ ))\n",
    "\n",
    "plt.plot(range(2, 11, 1), scores)"
   ]
  },
  {
   "cell_type": "markdown",
   "id": "69debdaf-ea41-47f0-937d-95c2d8f956e5",
   "metadata": {},
   "source": [
    "Résultat: le graph montre que le nombre optimal de clusters est de 2; silhouette_score ~ 1"
   ]
  },
  {
   "cell_type": "code",
   "execution_count": null,
   "id": "b22764f4-d1ca-4fc7-b3be-8710dfe5f389",
   "metadata": {},
   "outputs": [],
   "source": []
  }
 ],
 "metadata": {
  "kernelspec": {
   "display_name": "anaconda-ai-2024.04-py310",
   "language": "python",
   "name": "conda-env-anaconda-ai-2024.04-py310-py"
  },
  "language_info": {
   "codemirror_mode": {
    "name": "ipython",
    "version": 3
   },
   "file_extension": ".py",
   "mimetype": "text/x-python",
   "name": "python",
   "nbconvert_exporter": "python",
   "pygments_lexer": "ipython3",
   "version": "3.10.13"
  }
 },
 "nbformat": 4,
 "nbformat_minor": 5
}
