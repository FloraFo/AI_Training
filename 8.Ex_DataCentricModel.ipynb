{
 "cells": [
  {
   "cell_type": "code",
   "execution_count": 3,
   "id": "95d6941d-93cb-4643-b7f0-281bb95f2172",
   "metadata": {},
   "outputs": [],
   "source": [
    "import pandas as pd\n",
    "\n",
    "data = pd.read_csv(\"https://raw.githubusercontent.com/OpenClassrooms-Student-Center/8063076-Initiez-vous-au-Machine-Learning/master/data/ADEME_dpe-v2-tertiaire-2.csv\")"
   ]
  },
  {
   "cell_type": "code",
   "execution_count": 5,
   "id": "a3bff10a-8b18-4328-9bb9-4d64f4583bf6",
   "metadata": {},
   "outputs": [
    {
     "data": {
      "text/plain": [
       "(10000, 63)"
      ]
     },
     "execution_count": 5,
     "metadata": {},
     "output_type": "execute_result"
    }
   ],
   "source": [
    "data.shape"
   ]
  },
  {
   "cell_type": "code",
   "execution_count": 7,
   "id": "ca9d79d6-96dd-4c00-85f4-9c9ca3c3b980",
   "metadata": {
    "scrolled": true
   },
   "outputs": [
    {
     "name": "stdout",
     "output_type": "stream",
     "text": [
      "<class 'pandas.core.frame.DataFrame'>\n",
      "RangeIndex: 10000 entries, 0 to 9999\n",
      "Data columns (total 63 columns):\n",
      " #   Column                             Non-Null Count  Dtype  \n",
      "---  ------                             --------------  -----  \n",
      " 0   N°DPE                              10000 non-null  object \n",
      " 1   Date_réception_DPE                 10000 non-null  object \n",
      " 2   Date_établissement_DPE             10000 non-null  object \n",
      " 3   Date_visite_diagnostiqueur         10000 non-null  object \n",
      " 4   Modèle_DPE                         10000 non-null  object \n",
      " 5   N°_DPE_remplacé                    582 non-null    object \n",
      " 6   Date_fin_validité_DPE              10000 non-null  object \n",
      " 7   Version_DPE                        10000 non-null  float64\n",
      " 8   N°_DPE_immeuble_associé            26 non-null     object \n",
      " 9   Méthode_du_DPE                     9585 non-null   object \n",
      " 10  N°_immatriculation_copropriété     34 non-null     object \n",
      " 11  Invariant_fiscal_logement          60 non-null     object \n",
      " 12  Etiquette_DPE                      5608 non-null   object \n",
      " 13  Etiquette_GES                      5608 non-null   object \n",
      " 14  Conso_kWhep/m²/an                  5608 non-null   float64\n",
      " 15  Emission_GES_kgCO2/m²/an           5608 non-null   float64\n",
      " 16  Année_construction                 6581 non-null   float64\n",
      " 17  Catégorie_ERP                      7794 non-null   object \n",
      " 18  Période_construction               10000 non-null  object \n",
      " 19  Secteur_activité                   10000 non-null  object \n",
      " 20  Nombre_occupant                    9455 non-null   float64\n",
      " 21  Surface_(SHON)                     8056 non-null   float64\n",
      " 22  Surface_utile                      10000 non-null  float64\n",
      " 23  Type_énergie_principale_chauffage  1027 non-null   object \n",
      " 24  Adresse_brute                      9997 non-null   object \n",
      " 25  Nom__commune_(BAN)                 9975 non-null   object \n",
      " 26  Code_INSEE_(BAN)                   9975 non-null   object \n",
      " 27  N°_voie_(BAN)                      8049 non-null   object \n",
      " 28  Identifiant__BAN                   9975 non-null   object \n",
      " 29  Adresse_(BAN)                      9975 non-null   object \n",
      " 30  Code_postal_(BAN)                  9975 non-null   float64\n",
      " 31  Score_BAN                          9975 non-null   float64\n",
      " 32  Nom__rue_(BAN)                     8864 non-null   object \n",
      " 33  Coordonnée_cartographique_X_(BAN)  9975 non-null   float64\n",
      " 34  Coordonnée_cartographique_Y_(BAN)  9975 non-null   float64\n",
      " 35  Code_postal_(brut)                 10000 non-null  int64  \n",
      " 36  N°_étage_appartement               7107 non-null   float64\n",
      " 37  Nom_résidence                      935 non-null    object \n",
      " 38  Complément_d'adresse_bâtiment      3724 non-null   object \n",
      " 39  Cage_d'escalier                    74 non-null     object \n",
      " 40  Complément_d'adresse_logement      3640 non-null   object \n",
      " 41  Statut_géocodage                   10000 non-null  object \n",
      " 42  Nom__commune_(Brut)                9999 non-null   object \n",
      " 43  N°_département_(BAN)               9963 non-null   object \n",
      " 44  N°_région_(BAN)                    9963 non-null   float64\n",
      " 45  Conso_é_finale_énergie_n°1         5552 non-null   float64\n",
      " 46  Conso_é_primaire_énergie_n°1       5552 non-null   float64\n",
      " 47  Type_énergie_n°1                   5552 non-null   object \n",
      " 48  Type_usage_énergie_n°1             5552 non-null   object \n",
      " 49  Frais_annuel_énergie_n°1           5552 non-null   float64\n",
      " 50  Année_relève_conso_énergie_n°1     4952 non-null   float64\n",
      " 51  Conso_é_finale_énergie_n°2         2161 non-null   float64\n",
      " 52  Conso_é_primaire_énergie_n°2       2161 non-null   float64\n",
      " 53  Type_énergie_n°2                   2161 non-null   object \n",
      " 54  Type_usage_énergie_n°2             2161 non-null   object \n",
      " 55  Frais_annuel_énergie_n°2           2161 non-null   float64\n",
      " 56  Année_relève_conso_énergie_n°2     1952 non-null   float64\n",
      " 57  Conso_é_finale_énergie_n°3         881 non-null    float64\n",
      " 58  Conso_é_primaire_énergie_n°3       881 non-null    float64\n",
      " 59  Type_énergie_n°3                   881 non-null    object \n",
      " 60  Type_usage_énergie_n°3             881 non-null    object \n",
      " 61  Frais_annuel_énergie_n°3           881 non-null    float64\n",
      " 62  Année_relève_conso_énergie_n°3     749 non-null    float64\n",
      "dtypes: float64(25), int64(1), object(37)\n",
      "memory usage: 4.8+ MB\n"
     ]
    }
   ],
   "source": [
    "data.info()"
   ]
  },
  {
   "cell_type": "code",
   "execution_count": 25,
   "id": "38686e94-a9bb-43a1-bae2-64da55837237",
   "metadata": {},
   "outputs": [
    {
     "name": "stdout",
     "output_type": "stream",
     "text": [
      "41\n"
     ]
    }
   ],
   "source": [
    "i = 0\n",
    "df = data.copy()\n",
    "for nom_colonne in data.columns:\n",
    "    if df[~df[nom_colonne].isna()].shape[0] > 5000:\n",
    "        i= i+1\n",
    "\n",
    "print(i)"
   ]
  },
  {
   "cell_type": "code",
   "execution_count": 29,
   "id": "b4889a40-23a3-4ccf-b951-0b2cbaef2c86",
   "metadata": {},
   "outputs": [
    {
     "data": {
      "text/html": [
       "<div>\n",
       "<style scoped>\n",
       "    .dataframe tbody tr th:only-of-type {\n",
       "        vertical-align: middle;\n",
       "    }\n",
       "\n",
       "    .dataframe tbody tr th {\n",
       "        vertical-align: top;\n",
       "    }\n",
       "\n",
       "    .dataframe thead th {\n",
       "        text-align: right;\n",
       "    }\n",
       "</style>\n",
       "<table border=\"1\" class=\"dataframe\">\n",
       "  <thead>\n",
       "    <tr style=\"text-align: right;\">\n",
       "      <th></th>\n",
       "      <th>N°DPE</th>\n",
       "      <th>Date_réception_DPE</th>\n",
       "      <th>Date_établissement_DPE</th>\n",
       "      <th>Date_visite_diagnostiqueur</th>\n",
       "      <th>Modèle_DPE</th>\n",
       "      <th>N°_DPE_remplacé</th>\n",
       "      <th>Date_fin_validité_DPE</th>\n",
       "      <th>Version_DPE</th>\n",
       "      <th>N°_DPE_immeuble_associé</th>\n",
       "      <th>Méthode_du_DPE</th>\n",
       "      <th>...</th>\n",
       "      <th>Type_énergie_n°2</th>\n",
       "      <th>Type_usage_énergie_n°2</th>\n",
       "      <th>Frais_annuel_énergie_n°2</th>\n",
       "      <th>Année_relève_conso_énergie_n°2</th>\n",
       "      <th>Conso_é_finale_énergie_n°3</th>\n",
       "      <th>Conso_é_primaire_énergie_n°3</th>\n",
       "      <th>Type_énergie_n°3</th>\n",
       "      <th>Type_usage_énergie_n°3</th>\n",
       "      <th>Frais_annuel_énergie_n°3</th>\n",
       "      <th>Année_relève_conso_énergie_n°3</th>\n",
       "    </tr>\n",
       "  </thead>\n",
       "  <tbody>\n",
       "    <tr>\n",
       "      <th>5916</th>\n",
       "      <td>2334T1896951Q</td>\n",
       "      <td>2023-06-08</td>\n",
       "      <td>2023-06-08</td>\n",
       "      <td>2023-06-07</td>\n",
       "      <td>DPE 2006 tertiaire et ERP</td>\n",
       "      <td>NaN</td>\n",
       "      <td>2033-06-07</td>\n",
       "      <td>2.2</td>\n",
       "      <td>NaN</td>\n",
       "      <td>dpe tertiaire vierge dans un bâtiment de logement</td>\n",
       "      <td>...</td>\n",
       "      <td>NaN</td>\n",
       "      <td>NaN</td>\n",
       "      <td>NaN</td>\n",
       "      <td>NaN</td>\n",
       "      <td>NaN</td>\n",
       "      <td>NaN</td>\n",
       "      <td>NaN</td>\n",
       "      <td>NaN</td>\n",
       "      <td>NaN</td>\n",
       "      <td>NaN</td>\n",
       "    </tr>\n",
       "    <tr>\n",
       "      <th>8584</th>\n",
       "      <td>2213T2481021A</td>\n",
       "      <td>2022-10-22</td>\n",
       "      <td>2022-10-13</td>\n",
       "      <td>2022-10-13</td>\n",
       "      <td>DPE 2006 tertiaire et ERP</td>\n",
       "      <td>NaN</td>\n",
       "      <td>2032-10-12</td>\n",
       "      <td>2.2</td>\n",
       "      <td>NaN</td>\n",
       "      <td>dpe tertiaire vierge dans un bâtiment de logement</td>\n",
       "      <td>...</td>\n",
       "      <td>NaN</td>\n",
       "      <td>NaN</td>\n",
       "      <td>NaN</td>\n",
       "      <td>NaN</td>\n",
       "      <td>NaN</td>\n",
       "      <td>NaN</td>\n",
       "      <td>NaN</td>\n",
       "      <td>NaN</td>\n",
       "      <td>NaN</td>\n",
       "      <td>NaN</td>\n",
       "    </tr>\n",
       "    <tr>\n",
       "      <th>3471</th>\n",
       "      <td>2226T0043567H</td>\n",
       "      <td>2022-01-10</td>\n",
       "      <td>2022-01-10</td>\n",
       "      <td>2022-01-06</td>\n",
       "      <td>DPE 2006 tertiaire et ERP</td>\n",
       "      <td>NaN</td>\n",
       "      <td>2032-01-09</td>\n",
       "      <td>2.0</td>\n",
       "      <td>NaN</td>\n",
       "      <td>dpe tertiaire vierge</td>\n",
       "      <td>...</td>\n",
       "      <td>NaN</td>\n",
       "      <td>NaN</td>\n",
       "      <td>NaN</td>\n",
       "      <td>NaN</td>\n",
       "      <td>NaN</td>\n",
       "      <td>NaN</td>\n",
       "      <td>NaN</td>\n",
       "      <td>NaN</td>\n",
       "      <td>NaN</td>\n",
       "      <td>NaN</td>\n",
       "    </tr>\n",
       "    <tr>\n",
       "      <th>8461</th>\n",
       "      <td>2384T1265119I</td>\n",
       "      <td>2023-04-17</td>\n",
       "      <td>2023-04-17</td>\n",
       "      <td>2023-04-14</td>\n",
       "      <td>DPE 2006 tertiaire et ERP</td>\n",
       "      <td>NaN</td>\n",
       "      <td>2033-04-16</td>\n",
       "      <td>2.2</td>\n",
       "      <td>NaN</td>\n",
       "      <td>dpe tertiaire vierge</td>\n",
       "      <td>...</td>\n",
       "      <td>NaN</td>\n",
       "      <td>NaN</td>\n",
       "      <td>NaN</td>\n",
       "      <td>NaN</td>\n",
       "      <td>NaN</td>\n",
       "      <td>NaN</td>\n",
       "      <td>NaN</td>\n",
       "      <td>NaN</td>\n",
       "      <td>NaN</td>\n",
       "      <td>NaN</td>\n",
       "    </tr>\n",
       "    <tr>\n",
       "      <th>6764</th>\n",
       "      <td>2242T2568402Y</td>\n",
       "      <td>2022-10-31</td>\n",
       "      <td>2022-10-31</td>\n",
       "      <td>2022-10-21</td>\n",
       "      <td>DPE 2006 tertiaire et ERP</td>\n",
       "      <td>NaN</td>\n",
       "      <td>2032-10-30</td>\n",
       "      <td>2.2</td>\n",
       "      <td>NaN</td>\n",
       "      <td>dpe tertiaire vierge dans un bâtiment de logement</td>\n",
       "      <td>...</td>\n",
       "      <td>NaN</td>\n",
       "      <td>NaN</td>\n",
       "      <td>NaN</td>\n",
       "      <td>NaN</td>\n",
       "      <td>NaN</td>\n",
       "      <td>NaN</td>\n",
       "      <td>NaN</td>\n",
       "      <td>NaN</td>\n",
       "      <td>NaN</td>\n",
       "      <td>NaN</td>\n",
       "    </tr>\n",
       "    <tr>\n",
       "      <th>6326</th>\n",
       "      <td>2213T1854743K</td>\n",
       "      <td>2022-08-16</td>\n",
       "      <td>2022-08-16</td>\n",
       "      <td>2022-08-16</td>\n",
       "      <td>DPE 2006 tertiaire et ERP</td>\n",
       "      <td>NaN</td>\n",
       "      <td>2032-08-15</td>\n",
       "      <td>2.1</td>\n",
       "      <td>NaN</td>\n",
       "      <td>dpe tertiaire vierge</td>\n",
       "      <td>...</td>\n",
       "      <td>NaN</td>\n",
       "      <td>NaN</td>\n",
       "      <td>NaN</td>\n",
       "      <td>NaN</td>\n",
       "      <td>NaN</td>\n",
       "      <td>NaN</td>\n",
       "      <td>NaN</td>\n",
       "      <td>NaN</td>\n",
       "      <td>NaN</td>\n",
       "      <td>NaN</td>\n",
       "    </tr>\n",
       "    <tr>\n",
       "      <th>6919</th>\n",
       "      <td>2234T1464776M</td>\n",
       "      <td>2022-06-28</td>\n",
       "      <td>2022-06-28</td>\n",
       "      <td>2022-06-28</td>\n",
       "      <td>DPE 2006 tertiaire et ERP</td>\n",
       "      <td>NaN</td>\n",
       "      <td>2032-06-27</td>\n",
       "      <td>2.1</td>\n",
       "      <td>NaN</td>\n",
       "      <td>dpe tertiaire vierge</td>\n",
       "      <td>...</td>\n",
       "      <td>NaN</td>\n",
       "      <td>NaN</td>\n",
       "      <td>NaN</td>\n",
       "      <td>NaN</td>\n",
       "      <td>NaN</td>\n",
       "      <td>NaN</td>\n",
       "      <td>NaN</td>\n",
       "      <td>NaN</td>\n",
       "      <td>NaN</td>\n",
       "      <td>NaN</td>\n",
       "    </tr>\n",
       "    <tr>\n",
       "      <th>2505</th>\n",
       "      <td>2392T0692363O</td>\n",
       "      <td>2023-03-02</td>\n",
       "      <td>2023-03-02</td>\n",
       "      <td>2023-03-02</td>\n",
       "      <td>DPE 2006 tertiaire et ERP</td>\n",
       "      <td>NaN</td>\n",
       "      <td>2033-03-01</td>\n",
       "      <td>2.2</td>\n",
       "      <td>NaN</td>\n",
       "      <td>dpe tertiaire vierge dans un bâtiment de logement</td>\n",
       "      <td>...</td>\n",
       "      <td>NaN</td>\n",
       "      <td>NaN</td>\n",
       "      <td>NaN</td>\n",
       "      <td>NaN</td>\n",
       "      <td>NaN</td>\n",
       "      <td>NaN</td>\n",
       "      <td>NaN</td>\n",
       "      <td>NaN</td>\n",
       "      <td>NaN</td>\n",
       "      <td>NaN</td>\n",
       "    </tr>\n",
       "    <tr>\n",
       "      <th>9969</th>\n",
       "      <td>2256T2129592E</td>\n",
       "      <td>2022-09-17</td>\n",
       "      <td>2022-09-17</td>\n",
       "      <td>2022-09-16</td>\n",
       "      <td>DPE 2006 tertiaire et ERP</td>\n",
       "      <td>NaN</td>\n",
       "      <td>2032-09-16</td>\n",
       "      <td>2.2</td>\n",
       "      <td>NaN</td>\n",
       "      <td>dpe tertiaire vierge dans un bâtiment de logement</td>\n",
       "      <td>...</td>\n",
       "      <td>NaN</td>\n",
       "      <td>NaN</td>\n",
       "      <td>NaN</td>\n",
       "      <td>NaN</td>\n",
       "      <td>NaN</td>\n",
       "      <td>NaN</td>\n",
       "      <td>NaN</td>\n",
       "      <td>NaN</td>\n",
       "      <td>NaN</td>\n",
       "      <td>NaN</td>\n",
       "    </tr>\n",
       "    <tr>\n",
       "      <th>4224</th>\n",
       "      <td>2233T0928745W</td>\n",
       "      <td>2022-05-01</td>\n",
       "      <td>2022-05-01</td>\n",
       "      <td>2022-04-27</td>\n",
       "      <td>DPE 2006 tertiaire et ERP</td>\n",
       "      <td>NaN</td>\n",
       "      <td>2032-04-30</td>\n",
       "      <td>2.1</td>\n",
       "      <td>NaN</td>\n",
       "      <td>dpe tertiaire vierge</td>\n",
       "      <td>...</td>\n",
       "      <td>NaN</td>\n",
       "      <td>NaN</td>\n",
       "      <td>NaN</td>\n",
       "      <td>NaN</td>\n",
       "      <td>NaN</td>\n",
       "      <td>NaN</td>\n",
       "      <td>NaN</td>\n",
       "      <td>NaN</td>\n",
       "      <td>NaN</td>\n",
       "      <td>NaN</td>\n",
       "    </tr>\n",
       "  </tbody>\n",
       "</table>\n",
       "<p>10 rows × 63 columns</p>\n",
       "</div>"
      ],
      "text/plain": [
       "              N°DPE Date_réception_DPE Date_établissement_DPE  \\\n",
       "5916  2334T1896951Q         2023-06-08             2023-06-08   \n",
       "8584  2213T2481021A         2022-10-22             2022-10-13   \n",
       "3471  2226T0043567H         2022-01-10             2022-01-10   \n",
       "8461  2384T1265119I         2023-04-17             2023-04-17   \n",
       "6764  2242T2568402Y         2022-10-31             2022-10-31   \n",
       "6326  2213T1854743K         2022-08-16             2022-08-16   \n",
       "6919  2234T1464776M         2022-06-28             2022-06-28   \n",
       "2505  2392T0692363O         2023-03-02             2023-03-02   \n",
       "9969  2256T2129592E         2022-09-17             2022-09-17   \n",
       "4224  2233T0928745W         2022-05-01             2022-05-01   \n",
       "\n",
       "     Date_visite_diagnostiqueur                 Modèle_DPE N°_DPE_remplacé  \\\n",
       "5916                 2023-06-07  DPE 2006 tertiaire et ERP             NaN   \n",
       "8584                 2022-10-13  DPE 2006 tertiaire et ERP             NaN   \n",
       "3471                 2022-01-06  DPE 2006 tertiaire et ERP             NaN   \n",
       "8461                 2023-04-14  DPE 2006 tertiaire et ERP             NaN   \n",
       "6764                 2022-10-21  DPE 2006 tertiaire et ERP             NaN   \n",
       "6326                 2022-08-16  DPE 2006 tertiaire et ERP             NaN   \n",
       "6919                 2022-06-28  DPE 2006 tertiaire et ERP             NaN   \n",
       "2505                 2023-03-02  DPE 2006 tertiaire et ERP             NaN   \n",
       "9969                 2022-09-16  DPE 2006 tertiaire et ERP             NaN   \n",
       "4224                 2022-04-27  DPE 2006 tertiaire et ERP             NaN   \n",
       "\n",
       "     Date_fin_validité_DPE  Version_DPE N°_DPE_immeuble_associé  \\\n",
       "5916            2033-06-07          2.2                     NaN   \n",
       "8584            2032-10-12          2.2                     NaN   \n",
       "3471            2032-01-09          2.0                     NaN   \n",
       "8461            2033-04-16          2.2                     NaN   \n",
       "6764            2032-10-30          2.2                     NaN   \n",
       "6326            2032-08-15          2.1                     NaN   \n",
       "6919            2032-06-27          2.1                     NaN   \n",
       "2505            2033-03-01          2.2                     NaN   \n",
       "9969            2032-09-16          2.2                     NaN   \n",
       "4224            2032-04-30          2.1                     NaN   \n",
       "\n",
       "                                         Méthode_du_DPE  ... Type_énergie_n°2  \\\n",
       "5916  dpe tertiaire vierge dans un bâtiment de logement  ...              NaN   \n",
       "8584  dpe tertiaire vierge dans un bâtiment de logement  ...              NaN   \n",
       "3471                               dpe tertiaire vierge  ...              NaN   \n",
       "8461                               dpe tertiaire vierge  ...              NaN   \n",
       "6764  dpe tertiaire vierge dans un bâtiment de logement  ...              NaN   \n",
       "6326                               dpe tertiaire vierge  ...              NaN   \n",
       "6919                               dpe tertiaire vierge  ...              NaN   \n",
       "2505  dpe tertiaire vierge dans un bâtiment de logement  ...              NaN   \n",
       "9969  dpe tertiaire vierge dans un bâtiment de logement  ...              NaN   \n",
       "4224                               dpe tertiaire vierge  ...              NaN   \n",
       "\n",
       "     Type_usage_énergie_n°2 Frais_annuel_énergie_n°2  \\\n",
       "5916                    NaN                      NaN   \n",
       "8584                    NaN                      NaN   \n",
       "3471                    NaN                      NaN   \n",
       "8461                    NaN                      NaN   \n",
       "6764                    NaN                      NaN   \n",
       "6326                    NaN                      NaN   \n",
       "6919                    NaN                      NaN   \n",
       "2505                    NaN                      NaN   \n",
       "9969                    NaN                      NaN   \n",
       "4224                    NaN                      NaN   \n",
       "\n",
       "     Année_relève_conso_énergie_n°2  Conso_é_finale_énergie_n°3  \\\n",
       "5916                            NaN                         NaN   \n",
       "8584                            NaN                         NaN   \n",
       "3471                            NaN                         NaN   \n",
       "8461                            NaN                         NaN   \n",
       "6764                            NaN                         NaN   \n",
       "6326                            NaN                         NaN   \n",
       "6919                            NaN                         NaN   \n",
       "2505                            NaN                         NaN   \n",
       "9969                            NaN                         NaN   \n",
       "4224                            NaN                         NaN   \n",
       "\n",
       "      Conso_é_primaire_énergie_n°3  Type_énergie_n°3 Type_usage_énergie_n°3  \\\n",
       "5916                           NaN               NaN                    NaN   \n",
       "8584                           NaN               NaN                    NaN   \n",
       "3471                           NaN               NaN                    NaN   \n",
       "8461                           NaN               NaN                    NaN   \n",
       "6764                           NaN               NaN                    NaN   \n",
       "6326                           NaN               NaN                    NaN   \n",
       "6919                           NaN               NaN                    NaN   \n",
       "2505                           NaN               NaN                    NaN   \n",
       "9969                           NaN               NaN                    NaN   \n",
       "4224                           NaN               NaN                    NaN   \n",
       "\n",
       "     Frais_annuel_énergie_n°3 Année_relève_conso_énergie_n°3  \n",
       "5916                      NaN                            NaN  \n",
       "8584                      NaN                            NaN  \n",
       "3471                      NaN                            NaN  \n",
       "8461                      NaN                            NaN  \n",
       "6764                      NaN                            NaN  \n",
       "6326                      NaN                            NaN  \n",
       "6919                      NaN                            NaN  \n",
       "2505                      NaN                            NaN  \n",
       "9969                      NaN                            NaN  \n",
       "4224                      NaN                            NaN  \n",
       "\n",
       "[10 rows x 63 columns]"
      ]
     },
     "execution_count": 29,
     "metadata": {},
     "output_type": "execute_result"
    }
   ],
   "source": [
    "df[df[\"Emission_GES_kgCO2/m²/an\"].isna()].sample(10)"
   ]
  },
  {
   "cell_type": "code",
   "execution_count": 43,
   "id": "273b2811-474a-4dff-9f5f-45e488b551d0",
   "metadata": {},
   "outputs": [
    {
     "data": {
      "text/plain": [
       "count    9.455000e+03\n",
       "mean     3.122633e+04\n",
       "std      3.011636e+06\n",
       "min      0.000000e+00\n",
       "25%      0.000000e+00\n",
       "50%      1.000000e+00\n",
       "75%      6.850000e+01\n",
       "max      2.928417e+08\n",
       "Name: Nombre_occupant, dtype: float64"
      ]
     },
     "execution_count": 43,
     "metadata": {},
     "output_type": "execute_result"
    }
   ],
   "source": [
    "df[\"Nombre_occupant\"].describe()"
   ]
  },
  {
   "cell_type": "code",
   "execution_count": 45,
   "id": "647168c4-f2f5-44ed-bb5d-a9577249bb0b",
   "metadata": {},
   "outputs": [],
   "source": [
    "col = 'Emission_GES_kgCO2/m²/an'\n",
    "df = df[~df[col].isna()].copy()\n",
    "df.reset_index(inplace = True, drop = True)"
   ]
  },
  {
   "cell_type": "code",
   "execution_count": 47,
   "id": "fc7a6c18-4032-465e-8601-226ce4f86403",
   "metadata": {},
   "outputs": [],
   "source": [
    "from scipy import stats\n",
    "df['z_emissions'] = stats.zscore(df[col])"
   ]
  },
  {
   "cell_type": "code",
   "execution_count": 66,
   "id": "ca63c657-26d9-4f2e-a976-2d01fdda7706",
   "metadata": {},
   "outputs": [
    {
     "data": {
      "image/png": "[encoded data removed]",
      "text/plain": [
       "<Figure size 1200x600 with 1 Axes>"
      ]
     },
     "metadata": {},
     "output_type": "display_data"
    }
   ],
   "source": [
    "from matplotlib import pyplot as plt\n",
    "fig = plt.figure(figsize=(12,6))\n",
    "plt.hist(df['z_emissions'],50)\n",
    "plt.grid()\n",
    "fig.show()"
   ]
  },
  {
   "cell_type": "code",
   "execution_count": 76,
   "id": "60a37307-279d-4dde-85cf-8bea1fb269b7",
   "metadata": {},
   "outputs": [
    {
     "name": "stdout",
     "output_type": "stream",
     "text": [
      "Emisssion de gas aberrantes:  11\n"
     ]
    }
   ],
   "source": [
    "print(\"Emisssion de gas aberrantes: \", df[df['z_emissions']>3].shape[0])"
   ]
  },
  {
   "cell_type": "code",
   "execution_count": 74,
   "id": "3259460c-aa87-4a69-b22c-ad2d1638ab5d",
   "metadata": {},
   "outputs": [
    {
     "name": "stdout",
     "output_type": "stream",
     "text": [
      "Max emisssion de gas :  127.0\n"
     ]
    }
   ],
   "source": [
    "import numpy as np\n",
    "print(\"Max emisssion de gas : \", np.max(df[df['z_emissions']<2][col]))"
   ]
  },
  {
   "cell_type": "code",
   "execution_count": 82,
   "id": "a298cff2-5b98-4cea-861a-5f627e85d0c0",
   "metadata": {},
   "outputs": [
    {
     "name": "stdout",
     "output_type": "stream",
     "text": [
      "Limite basse :  -20.950000000000003\n",
      "Limite haute :  44.25\n"
     ]
    }
   ],
   "source": [
    "iqr = np.quantile(df[col], q=[0.25, 0.75])\n",
    "limite_basse = iqr[0] - 1.5*(iqr[1] - iqr[0])\n",
    "limite_haute = iqr[1] + 1.5*(iqr[1] - iqr[0])\n",
    "\n",
    "print(\"Limite basse : \", limite_basse)\n",
    "print(\"Limite haute : \", limite_haute)"
   ]
  },
  {
   "cell_type": "code",
   "execution_count": 80,
   "id": "6714c5cf-f518-4e1e-a5b0-6e9580253271",
   "metadata": {},
   "outputs": [
    {
     "name": "stdout",
     "output_type": "stream",
     "text": [
      "Emisssion de gas aberrantes:  488\n"
     ]
    }
   ],
   "source": [
    "print(\"Emisssion de gas aberrantes: \", df[df[col]>limite_haute].shape[0])"
   ]
  },
  {
   "cell_type": "code",
   "execution_count": 85,
   "id": "aa9aef4e-d1e8-414a-ac48-2fece4aec58d",
   "metadata": {},
   "outputs": [
    {
     "data": {
      "text/plain": [
       "Emission_GES_kgCO2/m²/an\n",
       "(-3.126, 312.59]      5604\n",
       "(312.59, 625.18]         1\n",
       "(1562.95, 1875.54]       1\n",
       "(1250.36, 1562.95]       1\n",
       "(2813.31, 3125.9]        1\n",
       "(937.77, 1250.36]        0\n",
       "(625.18, 937.77]         0\n",
       "(1875.54, 2188.13]       0\n",
       "(2188.13, 2500.72]       0\n",
       "(2500.72, 2813.31]       0\n",
       "Name: count, dtype: int64"
      ]
     },
     "execution_count": 85,
     "metadata": {},
     "output_type": "execute_result"
    }
   ],
   "source": [
    "pd.cut(df[col], 10).value_counts()"
   ]
  },
  {
   "cell_type": "code",
   "execution_count": 89,
   "id": "7c812141-95b0-4a41-8c31-d335fe86929e",
   "metadata": {},
   "outputs": [
    {
     "data": {
      "text/plain": [
       "Emission_GES_kgCO2/m²/an\n",
       "(-0.001, 0.1]      642\n",
       "(4.3, 6.0]         574\n",
       "(6.0, 8.0]         567\n",
       "(40.43, 3125.9]    561\n",
       "(15.8, 24.5]       560\n",
       "(2.7, 4.3]         560\n",
       "(10.7, 15.8]       560\n",
       "(24.5, 40.43]      558\n",
       "(8.0, 10.7]        528\n",
       "(0.1, 2.7]         498\n",
       "Name: count, dtype: int64"
      ]
     },
     "execution_count": 89,
     "metadata": {},
     "output_type": "execute_result"
    }
   ],
   "source": [
    "pd.qcut(df[col], 10).value_counts()"
   ]
  },
  {
   "cell_type": "code",
   "execution_count": 101,
   "id": "dd6cd66e-4d34-4dde-a632-6a5fcb911e87",
   "metadata": {},
   "outputs": [
    {
     "data": {
      "text/plain": [
       "Secteur_activité\n",
       "autres tertiaires non ERP                                                                                             1364\n",
       "M : Magasins de vente, centres commerciaux                                                                            1191\n",
       "W : Administrations, banques, bureaux                                                                                  799\n",
       "locaux d'entreprise (bureaux)                                                                                          664\n",
       "N : Restaurants et débits de boisson                                                                                   416\n",
       "J : Structures d’accueil pour personnes âgées ou personnes handicapées                                                 388\n",
       "U : Établissements de soins                                                                                            246\n",
       "GHW : Bureaux                                                                                                          145\n",
       "R : Établissements d’éveil, d’enseignement, de formation, centres de vacances, centres de loisirs sans hébergement     118\n",
       "O : Hôtels et pensions de famille                                                                                       86\n",
       "GHZ : Usage mixte                                                                                                       69\n",
       "L : Salles d'auditions, de conférences, de réunions, de spectacles ou à usage multiple                                  36\n",
       "X : Établissements sportifs couverts                                                                                    27\n",
       "T : Salles d'exposition à vocation commerciale                                                                          21\n",
       "P : Salles de danse et salles de jeux                                                                                   10\n",
       "S : Bibliothèques, centres de documentation                                                                              6\n",
       "OA : Hôtels-restaurants d'Altitude                                                                                       5\n",
       "GHR : Enseignement                                                                                                       4\n",
       "GHU : Usage sanitaire                                                                                                    3\n",
       "GHO : Hôtel                                                                                                              3\n",
       "V : Établissements de divers cultes                                                                                      3\n",
       "Y : Musées                                                                                                               2\n",
       "PA : Établissements de Plein Air                                                                                         1\n",
       "GHA : Habitation                                                                                                         1\n",
       "Name: count, dtype: int64"
      ]
     },
     "execution_count": 101,
     "metadata": {},
     "output_type": "execute_result"
    }
   ],
   "source": [
    "df['Secteur_activité'].value_counts()"
   ]
  },
  {
   "cell_type": "markdown",
   "id": "909c5327-929f-43cb-aec4-0e14856bbb89",
   "metadata": {},
   "source": [
    "L'encodage binaire rajouterait 5 colonnes au dataset.\n",
    "L'encodage binaire crée P nouvelles variables avec P tel que 2^P > N\n",
    "comme 32 = 2^5 > 24, l'encodage binaire rajouterait 5 nouvelles variables."
   ]
  },
  {
   "cell_type": "code",
   "execution_count": null,
   "id": "d1087b38-0ee3-42ce-947a-3182488ea3ab",
   "metadata": {},
   "outputs": [],
   "source": []
  }
 ],
 "metadata": {
  "kernelspec": {
   "display_name": "anaconda-ai-2024.04-py310",
   "language": "python",
   "name": "conda-env-anaconda-ai-2024.04-py310-py"
  },
  "language_info": {
   "codemirror_mode": {
    "name": "ipython",
    "version": 3
   },
   "file_extension": ".py",
   "mimetype": "text/x-python",
   "name": "python",
   "nbconvert_exporter": "python",
   "pygments_lexer": "ipython3",
   "version": "3.10.13"
  }
 },
 "nbformat": 4,
 "nbformat_minor": 5
}
