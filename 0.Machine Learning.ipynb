{
 "cells": [
  {
   "cell_type": "markdown",
   "id": "8830b1f9-8782-453c-9316-4ed4b684f697",
   "metadata": {},
   "source": [
    "# Machine Learning Model: Linear Regression"
   ]
  },
  {
   "cell_type": "code",
   "execution_count": 8,
   "id": "0aef2df8-c20c-464c-bfe5-05e06046d1d5",
   "metadata": {},
   "outputs": [],
   "source": [
    "# Soit des données artificielles\n",
    "X = [[0, 0], [1, 1]]\n",
    "y = [0, 1]\n",
    "\n",
    "# la classe du modèle\n",
    "from sklearn.linear_model import LinearRegression  # Corrected import statement\n",
    "\n",
    "# l'instanciation du modèle\n",
    "mdl = LinearRegression()\n",
    "mdl = mdl.fit(X, y)"
   ]
  },
  {
   "cell_type": "code",
   "execution_count": 10,
   "id": "099875fc-c972-4dcc-9460-fe76fdaf057c",
   "metadata": {},
   "outputs": [
    {
     "name": "stdout",
     "output_type": "stream",
     "text": [
      "Coefficients: [0.5 0.5]\n"
     ]
    }
   ],
   "source": [
    "   print(\"Coefficients:\", mdl.coef_)\n",
    "   "
   ]
  },
  {
   "cell_type": "code",
   "execution_count": 12,
   "id": "8165cadc-9d57-443c-b289-9fa6f527defa",
   "metadata": {},
   "outputs": [
    {
     "name": "stdout",
     "output_type": "stream",
     "text": [
      "Predictions: [5.55111512e-17 1.00000000e+00]\n"
     ]
    }
   ],
   "source": [
    "   predictions = mdl.predict(X)\n",
    "   print(\"Predictions:\", predictions)\n",
    "   "
   ]
  },
  {
   "cell_type": "code",
   "execution_count": 14,
   "id": "a063cbc5-862b-41d7-b3dc-e70234942de8",
   "metadata": {},
   "outputs": [
    {
     "name": "stdout",
     "output_type": "stream",
     "text": [
      "Mean Squared Error: 1.5407439555097887e-33\n",
      "R-squared: 1.0\n"
     ]
    }
   ],
   "source": [
    "   from sklearn.metrics import mean_squared_error, r2_score\n",
    "\n",
    "   # Calculate predictions\n",
    "   predictions = mdl.predict(X)\n",
    "\n",
    "   # Calculate MSE and R-squared\n",
    "   mse = mean_squared_error(y, predictions)\n",
    "   r2 = r2_score(y, predictions)\n",
    "\n",
    "   print(\"Mean Squared Error:\", mse)\n",
    "   print(\"R-squared:\", r2)\n",
    "   "
   ]
  }
 ],
 "metadata": {
  "kernelspec": {
   "display_name": "anaconda-panel-2023.05-py310",
   "language": "python",
   "name": "conda-env-anaconda-panel-2023.05-py310-py"
  },
  "language_info": {
   "codemirror_mode": {
    "name": "ipython",
    "version": 3
   },
   "file_extension": ".py",
   "mimetype": "text/x-python",
   "name": "python",
   "nbconvert_exporter": "python",
   "pygments_lexer": "ipython3",
   "version": "3.11.5"
  }
 },
 "nbformat": 4,
 "nbformat_minor": 5
}
