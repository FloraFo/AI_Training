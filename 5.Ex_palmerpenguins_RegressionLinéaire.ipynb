{
 "cells": [
  {
   "cell_type": "markdown",
   "id": "1826a8e9-dce8-4ee1-841e-4ed8b27e7bee",
   "metadata": {},
   "source": [
    "# Exercise: palmerpenguins -  Régression Linéaire"
   ]
  },
  {
   "cell_type": "markdown",
   "id": "0b783023-49fa-4d49-b6ae-94513552fec3",
   "metadata": {},
   "source": [
    "## Question 1: Explorer le dataset en utilisant une régression linéaire"
   ]
  },
  {
   "cell_type": "code",
   "execution_count": 7,
   "id": "744e04e8-24f1-4ced-b198-a1add3feb3bd",
   "metadata": {},
   "outputs": [],
   "source": [
    "# chargement du dataset\n",
    "import pandas as pd\n",
    "filename = \"https://raw.githubusercontent.com/OpenClassrooms-Student-Center/8063076-Initiez-vous-au-Machine-Learning/master/data/palmer_penguins_openclassrooms.csv\"\n",
    "data = pd.read_csv(filename)"
   ]
  },
  {
   "cell_type": "code",
   "execution_count": 55,
   "id": "7a81f0ab-eecc-4d2c-892a-3dbe02ee6c20",
   "metadata": {},
   "outputs": [],
   "source": [
    "# Regression linéaire\n",
    "from sklearn.linear_model import LinearRegression\n",
    "from sklearn.metrics import mean_squared_error, mean_absolute_percentage_error, classification_report\n",
    "from sklearn.model_selection import train_test_split\n",
    "\n",
    "reg = LinearRegression()\n",
    "\n",
    "y = data['body_mass_g']\n",
    "\n",
    "X_bl = data['bill_length_mm'].values.reshape(-1, 1) # testing on bill_length_mm\n",
    "X_bd = data['bill_depth_mm'].values.reshape(-1, 1) # testing on bill_depth_mm\n",
    "X_fl = data['flipper_length_mm'].values.reshape(-1, 1) # testing on flipper_length_mm\n",
    "X_s = data['species'].values.reshape(-1, 1) # testing on species\n",
    "X_i = data['island'].values.reshape(-1, 1) # testing on island"
   ]
  },
  {
   "cell_type": "code",
   "execution_count": 57,
   "id": "80071e0d-0bfe-403a-941e-22c6e4f9d463",
   "metadata": {},
   "outputs": [],
   "source": [
    "# testing on bill_length_mm\n",
    "\n",
    "X_bl_train, X_bl_test, y_bl_train, y_bl_test = train_test_split(X_bl, y, test_size=0.20, random_state=42)\n",
    "reg.fit(X_bl_train, y_bl_train)\n",
    "y_bl_predict = reg.predict(X_bl_test)"
   ]
  },
  {
   "cell_type": "code",
   "execution_count": 59,
   "id": "9a22ee64-e4c7-47a5-a9f8-de709d596ad6",
   "metadata": {},
   "outputs": [
    {
     "name": "stdout",
     "output_type": "stream",
     "text": [
      "R2 score: 0.25166149849711394\n",
      "RMSE: 351619.07273890224\n",
      "MAPE: 0.11831040240550003\n"
     ]
    }
   ],
   "source": [
    "print(f\"R2 score: {reg.score(X_bl_test,y_bl_test)}\")\n",
    "print(f\"RMSE: {mean_squared_error(y_bl_test, y_bl_predict)}\")\n",
    "print(f\"MAPE: {mean_absolute_percentage_error(y_bl_test, y_bl_predict)}\")"
   ]
  },
  {
   "cell_type": "code",
   "execution_count": 61,
   "id": "530441df-3d33-4bd7-b8fe-e272b9573201",
   "metadata": {},
   "outputs": [],
   "source": [
    "# testing on bill_depth_mm\n",
    "\n",
    "X_bd_train, X_bd_test, y_bd_train, y_bd_test = train_test_split(X_bd, y, test_size=0.20, random_state=42)\n",
    "reg.fit(X_bd_train, y_bd_train)\n",
    "y_bd_predict = reg.predict(X_bd_test)"
   ]
  },
  {
   "cell_type": "code",
   "execution_count": 63,
   "id": "cfbb2c9c-eadc-466d-a398-b9b9862163c5",
   "metadata": {},
   "outputs": [
    {
     "name": "stdout",
     "output_type": "stream",
     "text": [
      "R2 score: 0.13477851995531542\n",
      "RMSE: 406538.4500678659\n",
      "MAPE: 0.14008885366266416\n"
     ]
    }
   ],
   "source": [
    "print(f\"R2 score: {reg.score(X_bd_test,y_bd_test)}\")\n",
    "print(f\"RMSE: {mean_squared_error(y_bd_test, y_bd_predict)}\")\n",
    "print(f\"MAPE: {mean_absolute_percentage_error(y_bd_test, y_bd_predict)}\")"
   ]
  },
  {
   "cell_type": "code",
   "execution_count": 65,
   "id": "09e9bc69-dd48-4a28-8b1a-baefc87a6526",
   "metadata": {},
   "outputs": [],
   "source": [
    "# testing on flipper_length_mm\n",
    "\n",
    "X_fl_train, X_fl_test, y_fl_train, y_fl_test = train_test_split(X_fl, y, test_size=0.20, random_state=42)\n",
    "reg.fit(X_fl_train, y_fl_train)\n",
    "y_fl_predict = reg.predict(X_fl_test)"
   ]
  },
  {
   "cell_type": "code",
   "execution_count": 67,
   "id": "c05702d4-395e-49bf-b198-1482c3f53b56",
   "metadata": {},
   "outputs": [
    {
     "name": "stdout",
     "output_type": "stream",
     "text": [
      "R2 score: 0.7381059375411283\n",
      "RMSE: 123055.20458011268\n",
      "MAPE: 0.07512206369805174\n"
     ]
    }
   ],
   "source": [
    "print(f\"R2 score: {reg.score(X_fl_test,y_fl_test)}\")\n",
    "print(f\"RMSE: {mean_squared_error(y_fl_test, y_fl_predict)}\")\n",
    "print(f\"MAPE: {mean_absolute_percentage_error(y_fl_test, y_fl_predict)}\")"
   ]
  },
  {
   "cell_type": "code",
   "execution_count": 93,
   "id": "8cb83f72-8ac1-42d1-8beb-b175045363ab",
   "metadata": {},
   "outputs": [],
   "source": [
    "# testing on species\n",
    "\n",
    "import pandas as pd\n",
    "from sklearn.model_selection import train_test_split\n",
    "from sklearn.preprocessing import LabelEncoder\n",
    "\n",
    "# Assuming X_s is a DataFrame and contains categorical data\n",
    "# Example: If 'species' is a column in X_s that contains 'Adelie', 'Chinstrap', etc.\n",
    "label_encoder = LabelEncoder()\n",
    "\n",
    "# Convert categorical columns to numerical values\n",
    "# Replace 'species' with the actual column name that contains categorical data\n",
    "X_s = pd.DataFrame(X_s, columns=['species'])\n",
    "\n",
    "X_s['species'] = label_encoder.fit_transform(X_s['species'])\n",
    "\n",
    "# Now split the data and fit the model\n",
    "X_s_train, X_s_test, y_s_train, y_s_test = train_test_split(X_s, y, test_size=0.20, random_state=42)\n",
    "reg.fit(X_s_train, y_s_train)\n",
    "y_s_predict = reg.predict(X_s_test)"
   ]
  },
  {
   "cell_type": "code",
   "execution_count": 91,
   "id": "d99ae6ca-fd8e-4985-afc1-49da326d50bb",
   "metadata": {},
   "outputs": [
    {
     "name": "stdout",
     "output_type": "stream",
     "text": [
      "R2 score: 0.5186980415266287\n",
      "RMSE: 226147.58963483828\n",
      "MAPE: 0.10023069342276465\n"
     ]
    }
   ],
   "source": [
    "print(f\"R2 score: {reg.score(X_s_test,y_s_test)}\")\n",
    "print(f\"RMSE: {mean_squared_error(y_s_test, y_s_predict)}\")\n",
    "print(f\"MAPE: {mean_absolute_percentage_error(y_s_test, y_s_predict)}\")"
   ]
  },
  {
   "cell_type": "code",
   "execution_count": 96,
   "id": "ae898252-0981-445c-a770-086e5585a683",
   "metadata": {},
   "outputs": [],
   "source": [
    "# testing on island\n",
    "\n",
    "# Convert categorical columns to numerical values\n",
    "# Replace 'species' with the actual column name that contains categorical data\n",
    "X_i = pd.DataFrame(X_i, columns=['island'])\n",
    "\n",
    "X_i['island'] = label_encoder.fit_transform(X_i['island'])\n",
    "\n",
    "# Now split the data and fit the model\n",
    "X_i_train, X_i_test, y_i_train, y_i_test = train_test_split(X_i, y, test_size=0.20, random_state=42)\n",
    "reg.fit(X_i_train, y_i_train)\n",
    "y_i_predict = reg.predict(X_i_test)"
   ]
  },
  {
   "cell_type": "code",
   "execution_count": 98,
   "id": "4b91c75a-3deb-4131-b227-3ec07570ca6c",
   "metadata": {},
   "outputs": [
    {
     "name": "stdout",
     "output_type": "stream",
     "text": [
      "R2 score: -0.04313347459215411\n",
      "RMSE: 490133.30777768075\n",
      "MAPE: 0.15175787928955517\n"
     ]
    }
   ],
   "source": [
    "print(f\"R2 score: {reg.score(X_i_test,y_i_test)}\")\n",
    "print(f\"RMSE: {mean_squared_error(y_s_test, y_i_predict)}\")\n",
    "print(f\"MAPE: {mean_absolute_percentage_error(y_i_test, y_i_predict)}\")"
   ]
  },
  {
   "cell_type": "markdown",
   "id": "601ede4b-2a1e-40ee-adb4-60da268cc45b",
   "metadata": {},
   "source": [
    "## Réponse question 1 : \n",
    "En regardant le score donné par le modèle soit le   R2, reg.score()  , quelle est la mensuration la plus prédictive du poids des animaux ?"
   ]
  },
  {
   "cell_type": "markdown",
   "id": "08c4a267-fefa-4020-87c5-c2be317707d8",
   "metadata": {},
   "source": [
    "- bill_length_mm - R2 score: 0.25166149849711394\n",
    "- bill_depth_mm -R2 score: 0.13477851995531542\n",
    "- flipper_length_mm -R2 score: 0.7381059375411283\n",
    "- species - R2 score: 0.5186980415266287\n",
    "- island - R2 score: -0.04313347459215411\n",
    "\n",
    "The higest score is by flipper_length_mm. N.B. R2 score must be ~1 since the method computes the accuracy score by default (accuracy is #correct_preds / #all_preds)"
   ]
  },
  {
   "cell_type": "markdown",
   "id": "3fc99151-d75b-4306-842e-c5e44fe9d4fd",
   "metadata": {},
   "source": [
    "## Question 2 : standardiser les variables prédictrices "
   ]
  },
  {
   "cell_type": "code",
   "execution_count": 145,
   "id": "94d972da-2a78-4d77-9dd3-e14acc4bacd0",
   "metadata": {},
   "outputs": [],
   "source": [
    "from sklearn.preprocessing import MinMaxScaler\n",
    "scaler = MinMaxScaler()\n",
    "X = scaler.fit_transform(data[['bill_length_mm','bill_depth_mm','flipper_length_mm']])\n",
    "y = data['body_mass_g']"
   ]
  },
  {
   "cell_type": "code",
   "execution_count": 147,
   "id": "8713c525-4386-4264-b0d8-51bc9534a422",
   "metadata": {},
   "outputs": [
    {
     "name": "stdout",
     "output_type": "stream",
     "text": [
      "R2 score: 0.732607331078129\n",
      "RMSE: 125638.81467366402\n",
      "MAPE: 0.0764201469914469\n"
     ]
    }
   ],
   "source": [
    "X_train, X_test, y_train, y_test = train_test_split(X, y, test_size=0.20, random_state=42)\n",
    "\n",
    "reg.fit(X_train, y_train)\n",
    "y_pred = reg.predict(X_test)\n",
    "\n",
    "print(f\"R2 score: {reg.score(X_test,y_test)}\")\n",
    "print(f\"RMSE: {mean_squared_error(y_test, y_pred)}\")\n",
    "print(f\"MAPE: {mean_absolute_percentage_error(y_test, y_pred)}\")"
   ]
  },
  {
   "cell_type": "markdown",
   "id": "26882195-61de-4ece-8781-5abf87c726f9",
   "metadata": {},
   "source": [
    "## Réponse question 2 :\n",
    "LA MAPE est petite donc le modèle est bon et elle represent un erreur rélatif équivalent au 7,7%"
   ]
  },
  {
   "cell_type": "markdown",
   "id": "5ceca485-5d9d-49a9-8e24-ece448485ea0",
   "metadata": {},
   "source": [
    "## Question 3 : évaluation score par valeur de spécie"
   ]
  },
  {
   "cell_type": "code",
   "execution_count": 151,
   "id": "2d8e5849-5161-42f2-acb9-f3157dd3537b",
   "metadata": {},
   "outputs": [
    {
     "name": "stdout",
     "output_type": "stream",
     "text": [
      "--\n",
      " Adelie 0.506424944439383\n",
      "RMSE: 103103.77927187759\n",
      "MAPE: 0.0688582880470465\n",
      "--\n",
      " Gentoo 0.6280736371428204\n",
      "RMSE: 92745.44334404985\n",
      "MAPE: 0.04719861757681761\n",
      "--\n",
      " Chinstrap 0.5038143982587499\n",
      "RMSE: 72215.44695584576\n",
      "MAPE: 0.056609766769789266\n"
     ]
    }
   ],
   "source": [
    "scaler = MinMaxScaler()\n",
    "reg = LinearRegression()\n",
    "for espece in ['Adelie', 'Gentoo', 'Chinstrap']:\n",
    "    df = data[data.species == espece].copy()\n",
    "    y = df['body_mass_g']\n",
    "    X = scaler.fit_transform(df[['bill_length_mm','bill_depth_mm','flipper_length_mm']])\n",
    "    reg.fit(X, y)\n",
    "    print(\"--\\n\",espece, reg.score(X, y))\n",
    "\n",
    "    y_pred = reg.predict(X)\n",
    "    print(f\"RMSE: {mean_squared_error(y, y_pred)}\")\n",
    "    print(f\"MAPE: {mean_absolute_percentage_error(y, y_pred)}\")"
   ]
  },
  {
   "cell_type": "markdown",
   "id": "3ff238f5-608b-41dc-a6c3-e472981b6fbe",
   "metadata": {},
   "source": [
    "## Réponse question 3:\n",
    "- Gentoo a la plus petite MAPE, la régression est plus pertinente pour cette espèce.\n",
    "\n",
    "- Explication:\n",
    "    R^2 est une mesure absolue donc si 2 modèles ont le même R^2, ils sont aussi performants l'un que l'autre.\n",
    "    \r\n",
    "RMSE est une mesure relative qui va dépendre de la valeur de la variable cible. Obtenir 2 RMSE différentes pour 2 sets de données et donc pour 2 modèles différents ne permet pas de conclur\n",
    "    \r\n",
    "\r\n",
    "MAPE est une mesure relative mais indépendante de l'amplitude de la variable cible, donc une MAPE plus petite veut bien dire un meilleur modèle."
   ]
  },
  {
   "cell_type": "markdown",
   "id": "d409594a-5971-4b57-a5cf-8f9783c6ad5e",
   "metadata": {},
   "source": [
    "## Question 4 : analyse de l'entreinement du modèle selon le random_state"
   ]
  },
  {
   "cell_type": "code",
   "execution_count": 156,
   "id": "5640a5a2-cc65-46cf-82d4-8e5bf4756593",
   "metadata": {},
   "outputs": [],
   "source": [
    "scaler = MinMaxScaler()\n",
    "y = data['body_mass_g']\n",
    "X = scaler.fit_transform(data[['bill_length_mm','bill_depth_mm','flipper_length_mm']])\n",
    "reg = LinearRegression()"
   ]
  },
  {
   "cell_type": "code",
   "execution_count": 175,
   "id": "27d62276-07f4-4b1b-8535-6d20161d0b72",
   "metadata": {},
   "outputs": [
    {
     "data": {
      "image/png": "[encoded data removed]",
      "text/plain": [
       "<Figure size 600x600 with 1 Axes>"
      ]
     },
     "metadata": {},
     "output_type": "display_data"
    }
   ],
   "source": [
    "import numpy as np\n",
    "import matplotlib.pyplot as plt\n",
    "\n",
    "score = []\n",
    "test_size=0.20\n",
    "\n",
    "for random_state in np.arange(200):\n",
    "      X_train, X_test, y_train, y_test = train_test_split(X, y, test_size=test_size, random_state=random_state)\n",
    "      reg.fit(X_train, y_train)\n",
    "      #print(\"--\\n\",test_size, reg.score(X_test, y_test))\n",
    "      score.append(reg.score(X_test, y_test))\n",
    "\n",
    "import seaborn as sns\n",
    "fig = plt.figure(figsize=(6, 6))\n",
    "sns.boxplot(score)\n",
    "plt.title(f\"test_size {test_size}\")\n",
    "plt.show()"
   ]
  },
  {
   "cell_type": "markdown",
   "id": "6950e473-1cd7-4513-bb3e-b867e3fe3590",
   "metadata": {},
   "source": [
    "## Réponse question 4:\n",
    "Le choix du  random_state  lors de la partition en test et entraînement influence le score du modèle."
   ]
  },
  {
   "cell_type": "code",
   "execution_count": null,
   "id": "d2496d41-e413-491f-b74b-0005871d06f9",
   "metadata": {},
   "outputs": [],
   "source": []
  }
 ],
 "metadata": {
  "kernelspec": {
   "display_name": "anaconda-ai-2024.04-py310",
   "language": "python",
   "name": "conda-env-anaconda-ai-2024.04-py310-py"
  },
  "language_info": {
   "codemirror_mode": {
    "name": "ipython",
    "version": 3
   },
   "file_extension": ".py",
   "mimetype": "text/x-python",
   "name": "python",
   "nbconvert_exporter": "python",
   "pygments_lexer": "ipython3",
   "version": "3.10.13"
  }
 },
 "nbformat": 4,
 "nbformat_minor": 5
}
