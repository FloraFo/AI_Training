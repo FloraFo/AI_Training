{
 "cells": [
  {
   "cell_type": "markdown",
   "id": "35d2a92c-56ee-4a1a-951d-1acc590bbbaa",
   "metadata": {},
   "source": [
    "# Regression Logistique "
   ]
  },
  {
   "cell_type": "markdown",
   "id": "6ba3b0fe-3570-42e9-a9f0-b2b0266a16ef",
   "metadata": {},
   "source": [
    " La fonction de projection de toute valeur réelle dans l'intervalle [0,1] s'appelle la fonction logistique.\n",
    "\n",
    " Fonction de régression linéaire:  y = ax + b\n",
    " Fonction de régression logistique: z = f(y) = f(ax + b)"
   ]
  },
  {
   "cell_type": "markdown",
   "id": "f9d64879-9d59-4869-a733-0298e0c50513",
   "metadata": {},
   "source": [
    "Régression logistique vs régression linéaire\n",
    "La principale différence entre la régression logistique et la régression linéaire est que la régression logistique fournit un résultat constant, tandis que la régression linéaire fournit un résultat continu.\n",
    "\n",
    "Dans la régression logistique, le résultat, tel qu'une variable dépendante, n'a qu'un nombre limité de valeurs possibles. Cependant, en régression linéaire, le résultat est continu, ce qui signifie qu'il peut avoir n'importe laquelle parmi un nombre infini de valeurs possibles.\n",
    "\n",
    "La régression logistique est utilisée lorsque la variable réponse est catégorique, comme oui/non, vrai/faux et réussite/échec. La régression linéaire est utilisée lorsque la variable réponse est continue, comme le nombre d'heures, la taille et le poids."
   ]
  },
  {
   "cell_type": "code",
   "execution_count": 8,
   "id": "c1fbe686-a059-44bf-b1f7-bbc7dd16302b",
   "metadata": {},
   "outputs": [],
   "source": [
    "from sklearn.datasets import load_breast_cancer\n",
    "\n",
    "X, y = load_breast_cancer(return_X_y=True)"
   ]
  },
  {
   "cell_type": "code",
   "execution_count": 14,
   "id": "73b7de5c-a276-406f-9d08-52a8539379c3",
   "metadata": {},
   "outputs": [
    {
     "name": "stderr",
     "output_type": "stream",
     "text": [
      "/opt/conda/envs/anaconda-ai-2024.04-py310/lib/python3.10/site-packages/sklearn/linear_model/_logistic.py:460: ConvergenceWarning: lbfgs failed to converge (status=1):\n",
      "STOP: TOTAL NO. of ITERATIONS REACHED LIMIT.\n",
      "\n",
      "Increase the number of iterations (max_iter) or scale the data as shown in:\n",
      "    https://scikit-learn.org/stable/modules/preprocessing.html\n",
      "Please also refer to the documentation for alternative solver options:\n",
      "    https://scikit-learn.org/stable/modules/linear_model.html#logistic-regression\n",
      "  n_iter_i = _check_optimize_result(\n"
     ]
    }
   ],
   "source": [
    "\n",
    "from sklearn.linear_model import LogisticRegression\n",
    "clf = LogisticRegression(random_state=808).fit(X, y)\n",
    "#random_state is a parameter in train_test_split that controls the random number generator used to shuffle the data before splitting it. In other words, it ensures that the same randomization is used each time you run the code, resulting in the same splits of the data"
   ]
  },
  {
   "cell_type": "code",
   "execution_count": 20,
   "id": "e30daa13-4297-4545-ba48-2625a942fc15",
   "metadata": {},
   "outputs": [
    {
     "data": {
      "text/plain": [
       "array([0])"
      ]
     },
     "execution_count": 20,
     "metadata": {},
     "output_type": "execute_result"
    }
   ],
   "source": [
    "clf.predict([X[8, :]]) #on demande de prédire le résultat de la ligne 8"
   ]
  },
  {
   "cell_type": "code",
   "execution_count": 22,
   "id": "58c9b4a8-6608-4e73-b570-7c7502bc75e2",
   "metadata": {},
   "outputs": [
    {
     "data": {
      "text/plain": [
       "array([[0.68692892, 0.31307108]])"
      ]
     },
     "execution_count": 22,
     "metadata": {},
     "output_type": "execute_result"
    }
   ],
   "source": [
    "clf.predict_proba([X[8, :]])"
   ]
  },
  {
   "cell_type": "code",
   "execution_count": 24,
   "id": "14b9518d-447c-4c9a-837f-470eeb0bdbf0",
   "metadata": {},
   "outputs": [],
   "source": [
    "y_pred = clf.predict(X)"
   ]
  },
  {
   "cell_type": "markdown",
   "id": "0c604351-6533-4ed1-b6fa-a4b57c37131e",
   "metadata": {},
   "source": [
    "### Metriques du modèle: Exactitude, Rappelle et Précision"
   ]
  },
  {
   "cell_type": "code",
   "execution_count": 57,
   "id": "45c78453-063a-4a08-a5fe-3517611554fb",
   "metadata": {},
   "outputs": [],
   "source": [
    "from sklearn.metrics import accuracy_score, confusion_matrix, precision_score, recall_score"
   ]
  },
  {
   "cell_type": "code",
   "execution_count": 61,
   "id": "f8d465f7-05dc-4154-b967-94247caed592",
   "metadata": {},
   "outputs": [
    {
     "name": "stdout",
     "output_type": "stream",
     "text": [
      "Accuracy score:  0.9472759226713533\n",
      "Precision score:  0.947945205479452\n",
      "Recall score:  0.969187675070028\n"
     ]
    }
   ],
   "source": [
    "print(\"Accuracy score: \", accuracy_score(y, y_pred)) #échantillons bien classés / échantillons au total\n",
    "print(\"Precision score: \", precision_score(y, y_pred)) #TP / (TP + FP)\n",
    "print(\"Recall score: \", recall_score(y, y_pred)) #TP / (TP + FN)"
   ]
  },
  {
   "cell_type": "code",
   "execution_count": 33,
   "id": "d3d15d19-b9e1-437c-a511-3c5102f2779a",
   "metadata": {},
   "outputs": [
    {
     "data": {
      "text/plain": [
       "array([[193,  19],\n",
       "       [ 11, 346]])"
      ]
     },
     "execution_count": 33,
     "metadata": {},
     "output_type": "execute_result"
    }
   ],
   "source": [
    "confusion_matrix(y, y_pred)"
   ]
  },
  {
   "cell_type": "markdown",
   "id": "4581f99b-4f88-48ba-8845-ede9f4d2d5a3",
   "metadata": {},
   "source": [
    "### Changer le seuil"
   ]
  },
  {
   "cell_type": "code",
   "execution_count": 37,
   "id": "2639f504-be38-4a7e-a112-8b5bc4c1495b",
   "metadata": {},
   "outputs": [],
   "source": [
    "y_hat_proba = clf.predict_proba(X)[:,1]"
   ]
  },
  {
   "cell_type": "code",
   "execution_count": 47,
   "id": "30de845e-0770-4433-a31f-7cf75a044c89",
   "metadata": {},
   "outputs": [],
   "source": [
    "y_pred_03 = [ 0 if value < 0.3 else 1 for value in y_hat_proba ] \n",
    "y_pred_07 = [ 0 if value < 0.7 else 1 for value in y_hat_proba ] "
   ]
  },
  {
   "cell_type": "code",
   "execution_count": 49,
   "id": "54ad1848-0e73-45e5-a0d7-2441a4ea83ab",
   "metadata": {},
   "outputs": [
    {
     "data": {
      "text/plain": [
       "array([[186,  26],\n",
       "       [  6, 351]])"
      ]
     },
     "execution_count": 49,
     "metadata": {},
     "output_type": "execute_result"
    }
   ],
   "source": [
    "confusion_matrix(y, y_pred_03) #il y a plus de possibilité qu'on arrondi à 1 donc ça reduit les faux négatifs (6)"
   ]
  },
  {
   "cell_type": "code",
   "execution_count": 51,
   "id": "b77d53ce-f794-44ea-8704-45709e0acd6e",
   "metadata": {},
   "outputs": [
    {
     "data": {
      "text/plain": [
       "array([[200,  12],\n",
       "       [ 18, 339]])"
      ]
     },
     "execution_count": 51,
     "metadata": {},
     "output_type": "execute_result"
    }
   ],
   "source": [
    "confusion_matrix(y, y_pred_07) #il y a plus de possibilité qu'on arrondi à O donc ça reduit les faux positifs (12)"
   ]
  },
  {
   "cell_type": "markdown",
   "id": "3ca63632-908d-44d7-b18f-0c8098da248e",
   "metadata": {},
   "source": [
    "## Exercise"
   ]
  },
  {
   "cell_type": "markdown",
   "id": "6d4f3ed1-274a-478c-a27e-0e09b8e727b9",
   "metadata": {},
   "source": [
    "### Chargement du dataset"
   ]
  },
  {
   "cell_type": "code",
   "execution_count": 65,
   "id": "fb236336-4264-47b7-908c-2c6095685f42",
   "metadata": {},
   "outputs": [],
   "source": [
    "from sklearn.datasets import load_iris\n",
    "X, y = load_iris(return_X_y=True)"
   ]
  },
  {
   "cell_type": "markdown",
   "id": "41b77d41-8687-474b-a145-1cba44900b87",
   "metadata": {},
   "source": [
    "### Initiation du modèle"
   ]
  },
  {
   "cell_type": "code",
   "execution_count": 92,
   "id": "fb68c194-8ab3-4754-8409-2b64fd5fa1ee",
   "metadata": {},
   "outputs": [],
   "source": [
    "from sklearn.linear_model import LogisticRegression"
   ]
  },
  {
   "cell_type": "markdown",
   "id": "6d4f2d8b-d7a8-4f70-aaef-99a447dd42a9",
   "metadata": {},
   "source": [
    "### Split train test"
   ]
  },
  {
   "cell_type": "code",
   "execution_count": 112,
   "id": "a64dfc06-599c-4cbb-91ed-21f2592652f2",
   "metadata": {},
   "outputs": [],
   "source": [
    "from sklearn.model_selection import train_test_split\n",
    "X_train, X_test, y_train, y_test = train_test_split(X, y, test_size=0.20, random_state=8)"
   ]
  },
  {
   "cell_type": "markdown",
   "id": "3583ea20-bf10-4c20-8fe7-43ef26cab741",
   "metadata": {},
   "source": [
    "### Entrainement "
   ]
  },
  {
   "cell_type": "code",
   "execution_count": 115,
   "id": "4c47d3ea-cd98-44b1-be4d-9185884ed2e8",
   "metadata": {},
   "outputs": [],
   "source": [
    "clf = LogisticRegression(random_state=808).fit(X_train,y_train)"
   ]
  },
  {
   "cell_type": "markdown",
   "id": "4484826a-421c-4f31-ba5e-2e02082fab4f",
   "metadata": {},
   "source": [
    "### Prédiction"
   ]
  },
  {
   "cell_type": "code",
   "execution_count": 118,
   "id": "4b91a730-ab2d-4cc4-ac90-72644f7fc987",
   "metadata": {},
   "outputs": [],
   "source": [
    "y_pred = clf.predict(X_test)\n",
    "y_pred_proba = clf.predict_proba(X_test)"
   ]
  },
  {
   "cell_type": "markdown",
   "id": "5a22b1f9-83a6-4a27-b551-d42dde9c65b2",
   "metadata": {},
   "source": [
    "### Statistiques"
   ]
  },
  {
   "cell_type": "code",
   "execution_count": 121,
   "id": "b179652e-d411-4eca-bcd8-e24c5b7cec40",
   "metadata": {},
   "outputs": [
    {
     "data": {
      "text/plain": [
       "array([[10,  0,  0],\n",
       "       [ 0,  8,  1],\n",
       "       [ 0,  2,  9]])"
      ]
     },
     "execution_count": 121,
     "metadata": {},
     "output_type": "execute_result"
    }
   ],
   "source": [
    "confusion_matrix(y_test, y_pred)"
   ]
  },
  {
   "cell_type": "code",
   "execution_count": 123,
   "id": "b90e43ad-4a4e-4fab-800a-ceb081477d31",
   "metadata": {},
   "outputs": [
    {
     "name": "stdout",
     "output_type": "stream",
     "text": [
      "              precision    recall  f1-score   support\n",
      "\n",
      "           0       1.00      1.00      1.00        10\n",
      "           1       0.80      0.89      0.84         9\n",
      "           2       0.90      0.82      0.86        11\n",
      "\n",
      "    accuracy                           0.90        30\n",
      "   macro avg       0.90      0.90      0.90        30\n",
      "weighted avg       0.90      0.90      0.90        30\n",
      "\n"
     ]
    }
   ],
   "source": [
    "from sklearn.metrics import classification_report\n",
    "\n",
    "print(classification_report(y_test, y_pred))"
   ]
  },
  {
   "cell_type": "markdown",
   "id": "63fc444f-4b13-4374-b33a-a0fc551f3432",
   "metadata": {},
   "source": [
    "### ROC Curve"
   ]
  },
  {
   "cell_type": "code",
   "execution_count": 132,
   "id": "0153eaed-27c8-4815-8e1e-1bc5697589ea",
   "metadata": {},
   "outputs": [],
   "source": [
    "from sklearn.metrics import roc_curve\n",
    "from sklearn.preprocessing import label_binarize\n",
    "\n",
    "# Assuming y_test contains the true labels and clf is your trained classifier\n",
    "# Binarize the output for multi-class ROC\n",
    "y_test_bin = label_binarize(y_test, classes=[0, 1, 2])  # Adjust classes based on your dataset\n",
    "n_classes = y_test_bin.shape[1]\n",
    "\n",
    "# Compute ROC curve for each class\n",
    "fpr = dict()\n",
    "tpr = dict()\n",
    "thresholds = dict()\n",
    "\n",
    "for i in range(n_classes):\n",
    "    fpr[i], tpr[i], thresholds[i] = roc_curve(y_test_bin[:, i], clf.predict_proba(X_test)[:, i])\n",
    "\n",
    "# Now fpr and tpr contain the false positive rates and true positive rates for each class"
   ]
  },
  {
   "cell_type": "code",
   "execution_count": 146,
   "id": "94f10992-9c99-4928-85ee-13ca1b7b85f7",
   "metadata": {},
   "outputs": [
    {
     "data": {
      "image/png": "[encoded data removed]",
      "text/plain": [
       "<Figure size 640x480 with 1 Axes>"
      ]
     },
     "metadata": {},
     "output_type": "display_data"
    }
   ],
   "source": [
    "import matplotlib.pyplot as plt\n",
    "for i in range(n_classes):\n",
    "    plt.plot(fpr[i], tpr[i], label = i)\n",
    "    plt.grid()\n",
    "    plt.legend()\n",
    "    plt.title(\"ROC curve\")"
   ]
  }
 ],
 "metadata": {
  "kernelspec": {
   "display_name": "anaconda-ai-2024.04-py310",
   "language": "python",
   "name": "conda-env-anaconda-ai-2024.04-py310-py"
  },
  "language_info": {
   "codemirror_mode": {
    "name": "ipython",
    "version": 3
   },
   "file_extension": ".py",
   "mimetype": "text/x-python",
   "name": "python",
   "nbconvert_exporter": "python",
   "pygments_lexer": "ipython3",
   "version": "3.10.13"
  }
 },
 "nbformat": 4,
 "nbformat_minor": 5
}
