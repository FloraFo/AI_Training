{
 "cells": [
  {
   "cell_type": "markdown",
   "id": "2ebc5c44-36e0-4b55-bf52-241cad87a1ab",
   "metadata": {},
   "source": [
    "# Modèle Predictif"
   ]
  },
  {
   "cell_type": "markdown",
   "id": "1d55685b-2bf8-4c75-ab1f-c1da54d1090f",
   "metadata": {},
   "source": [
    "Nous allons construire un modèle qui prédit la variable cible (le poids de l'enfant) à partir des autres variables (sexe, âge et taille).\n",
    "\n",
    "On cherche donc les coefficients  a  ,  b  ,  c  tels que :\n",
    "\n",
    "poids = a * sexe + b * age + c * taille + du bruit\n",
    "\n",
    "Rappel : le bruit représente l'information qui n'est pas capturée par le modèle linéaire."
   ]
  },
  {
   "cell_type": "code",
   "execution_count": 114,
   "id": "9996dfa2-782d-416b-9f9c-cac24ead2803",
   "metadata": {},
   "outputs": [],
   "source": [
    "import pandas as pd\n",
    "import os\n",
    "\n",
    "# Define the file path\n",
    "file_path = \"https://github.com/OpenClassrooms-Student-Center/8063076-Initiez-vous-au-Machine-Learning/blob/master/data/age_vs_poids_vs_taille_vs_sexe.csv\"\n"
   ]
  },
  {
   "cell_type": "code",
   "execution_count": 116,
   "id": "1b4fb523-746d-4c98-9d46-99b9a1fc8c07",
   "metadata": {},
   "outputs": [
    {
     "data": {
      "text/html": [
       "<div>\n",
       "<style scoped>\n",
       "    .dataframe tbody tr th:only-of-type {\n",
       "        vertical-align: middle;\n",
       "    }\n",
       "\n",
       "    .dataframe tbody tr th {\n",
       "        vertical-align: top;\n",
       "    }\n",
       "\n",
       "    .dataframe thead th {\n",
       "        text-align: right;\n",
       "    }\n",
       "</style>\n",
       "<table border=\"1\" class=\"dataframe\">\n",
       "  <thead>\n",
       "    <tr style=\"text-align: right;\">\n",
       "      <th></th>\n",
       "      <th>sexe</th>\n",
       "      <th>age</th>\n",
       "      <th>taille</th>\n",
       "      <th>poids</th>\n",
       "    </tr>\n",
       "  </thead>\n",
       "  <tbody>\n",
       "    <tr>\n",
       "      <th>0</th>\n",
       "      <td>1</td>\n",
       "      <td>147</td>\n",
       "      <td>151.13</td>\n",
       "      <td>45.80</td>\n",
       "    </tr>\n",
       "    <tr>\n",
       "      <th>1</th>\n",
       "      <td>0</td>\n",
       "      <td>160</td>\n",
       "      <td>150.62</td>\n",
       "      <td>35.60</td>\n",
       "    </tr>\n",
       "    <tr>\n",
       "      <th>2</th>\n",
       "      <td>1</td>\n",
       "      <td>148</td>\n",
       "      <td>149.86</td>\n",
       "      <td>43.08</td>\n",
       "    </tr>\n",
       "    <tr>\n",
       "      <th>3</th>\n",
       "      <td>0</td>\n",
       "      <td>149</td>\n",
       "      <td>144.78</td>\n",
       "      <td>41.72</td>\n",
       "    </tr>\n",
       "    <tr>\n",
       "      <th>4</th>\n",
       "      <td>0</td>\n",
       "      <td>156</td>\n",
       "      <td>156.21</td>\n",
       "      <td>49.21</td>\n",
       "    </tr>\n",
       "  </tbody>\n",
       "</table>\n",
       "</div>"
      ],
      "text/plain": [
       "   sexe  age  taille  poids\n",
       "0     1  147  151.13  45.80\n",
       "1     0  160  150.62  35.60\n",
       "2     1  148  149.86  43.08\n",
       "3     0  149  144.78  41.72\n",
       "4     0  156  156.21  49.21"
      ]
     },
     "execution_count": 116,
     "metadata": {},
     "output_type": "execute_result"
    }
   ],
   "source": [
    "df.head()"
   ]
  },
  {
   "cell_type": "code",
   "execution_count": 67,
   "id": "d9afbfc0-b37b-4094-a450-63ef7ecec716",
   "metadata": {},
   "outputs": [],
   "source": [
    "# on choisi un modèle de regression linéaire\n",
    "from sklearn.linear_model import LinearRegression\n",
    "\n",
    "reg = LinearRegression()"
   ]
  },
  {
   "cell_type": "code",
   "execution_count": 69,
   "id": "def3b62c-b423-4f3a-8612-697ab73de8ee",
   "metadata": {},
   "outputs": [],
   "source": [
    "# les variables du modèle\n",
    "X = df[['age', 'taille']]\n",
    "\n",
    "# la cible\n",
    "y = df.poids"
   ]
  },
  {
   "cell_type": "code",
   "execution_count": 71,
   "id": "d823d63e-5ace-495b-88f8-847e6b86373f",
   "metadata": {},
   "outputs": [
    {
     "name": "stdout",
     "output_type": "stream",
     "text": [
      "R^2 : 0.63\n",
      "poids = 0.11 * age +  0.55 * taille + du bruit\n"
     ]
    }
   ],
   "source": [
    "import numpy as np\n",
    "# on entraîne ce modèle sur les données avec la méthode fit\n",
    "reg.fit(X, y)\n",
    "\n",
    "# et on obtient directement un score\n",
    "print(f\"R^2 : {np.round(reg.score(X, y), 3)}\")\n",
    "\n",
    "# ainsi que les coefficients a,b,c de la régression linéaire\n",
    "print(f\"poids = {np.round(reg.coef_[0],  2)} * age +  {np.round(reg.coef_[1],  2)} * taille + du bruit\")"
   ]
  },
  {
   "cell_type": "markdown",
   "id": "87eef650-6e95-4cc4-8c0c-84138a0d129e",
   "metadata": {},
   "source": [
    "La documentation du modèle  LinearRegression  indique qu'il s'agit là du coefficient de détermination R^2 qui mesure les variations de la variable cible qui sont expliquées par le modèle. R^2 va de 0 (mauvais) à 1 (parfait)."
   ]
  },
  {
   "cell_type": "code",
   "execution_count": 74,
   "id": "ace57b2c-09c4-4094-8723-1a4a01f46299",
   "metadata": {},
   "outputs": [
    {
     "name": "stdout",
     "output_type": "stream",
     "text": [
      "R^2 : 0.631\n",
      "poids =  0.15 * sexe + 0.11 * age +  0.55 * taille + du bruit\n"
     ]
    }
   ],
   "source": [
    "# on entraine maintenant notre modèle de design (X) sur trois variables\n",
    "\n",
    "X = df[['sexe','age','taille']]\n",
    "y = df.poids\n",
    "reg2 = LinearRegression()\n",
    "reg2.fit(X,y)\n",
    "\n",
    "# et on obtient directement un score\n",
    "print(f\"R^2 : {np.round(reg2.score(X, y), 3)}\")\n",
    "\n",
    "# ainsi que les coefficients a,b,c de la régression linéaire\n",
    "print(f\"poids =  {np.round(reg2.coef_[0],  2)} * sexe + {np.round(reg2.coef_[1],  2)} * age +  {np.round(reg2.coef_[2],  2)} * taille + du bruit\")"
   ]
  },
  {
   "cell_type": "markdown",
   "id": "7180c5a3-6286-476c-988c-bbe3413cab0d",
   "metadata": {},
   "source": [
    "## Prédiction"
   ]
  },
  {
   "cell_type": "markdown",
   "id": "b90cbb18-85ba-4fa4-a2cb-60a7ec0a3eca",
   "metadata": {},
   "source": [
    "Vous pouvez enfin faire une prédiction si un nouvel élève arrive en cours d'année. Par exemple, pour un garçon (0) agé de 150 mois, de taille 153 :"
   ]
  },
  {
   "cell_type": "code",
   "execution_count": 96,
   "id": "922e17bf-9c35-4375-947f-a4c351301c0a",
   "metadata": {},
   "outputs": [
    {
     "name": "stdout",
     "output_type": "stream",
     "text": [
      "[42.72547658]\n"
     ]
    },
    {
     "name": "stderr",
     "output_type": "stream",
     "text": [
      "/opt/conda/envs/anaconda-ai-2024.04-py310/lib/python3.10/site-packages/sklearn/base.py:464: UserWarning: X does not have valid feature names, but LinearRegression was fitted with feature names\n",
      "  warnings.warn(\n"
     ]
    }
   ],
   "source": [
    "poids = reg2.predict(np.array([[0, 150, 153]]))\n",
    "print(poids)"
   ]
  },
  {
   "cell_type": "code",
   "execution_count": 98,
   "id": "254701db-9b17-454b-b107-dc51d63aa9d7",
   "metadata": {},
   "outputs": [
    {
     "name": "stdout",
     "output_type": "stream",
     "text": [
      "[53.81262396]\n"
     ]
    },
    {
     "name": "stderr",
     "output_type": "stream",
     "text": [
      "/opt/conda/envs/anaconda-ai-2024.04-py310/lib/python3.10/site-packages/sklearn/base.py:464: UserWarning: X does not have valid feature names, but LinearRegression was fitted with feature names\n",
      "  warnings.warn(\n"
     ]
    }
   ],
   "source": [
    "poids = reg2.predict(np.array([[0, 150, 173]]))\n",
    "print(poids)"
   ]
  },
  {
   "cell_type": "code",
   "execution_count": 109,
   "id": "dc062611-2a99-4f4d-943a-8f79aa9db9f3",
   "metadata": {},
   "outputs": [
    {
     "name": "stdout",
     "output_type": "stream",
     "text": [
      "28.599112263301485\n",
      "4.163592104513334\n",
      "0.0905309686187008\n"
     ]
    }
   ],
   "source": [
    "from sklearn.metrics import mean_squared_error, mean_absolute_error, mean_absolute_percentage_error\n",
    "y_pred = reg2.predict(X)\n",
    "print(mean_squared_error(y, y_pred))\n",
    "print(mean_absolute_error(y, y_pred))\n",
    "print(mean_absolute_percentage_error(y, y_pred))"
   ]
  },
  {
   "cell_type": "code",
   "execution_count": null,
   "id": "e06de6f1-bc03-4dac-80ac-9998a5e66896",
   "metadata": {},
   "outputs": [],
   "source": []
  }
 ],
 "metadata": {
  "kernelspec": {
   "display_name": "anaconda-ai-2024.04-py310",
   "language": "python",
   "name": "conda-env-anaconda-ai-2024.04-py310-py"
  },
  "language_info": {
   "codemirror_mode": {
    "name": "ipython",
    "version": 3
   },
   "file_extension": ".py",
   "mimetype": "text/x-python",
   "name": "python",
   "nbconvert_exporter": "python",
   "pygments_lexer": "ipython3",
   "version": "3.10.13"
  }
 },
 "nbformat": 4,
 "nbformat_minor": 5
}
